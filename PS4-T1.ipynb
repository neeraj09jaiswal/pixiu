{
 "cells": [
  {
   "cell_type": "code",
   "execution_count": 1,
   "metadata": {},
   "outputs": [],
   "source": [
    "import pandas as pd\n",
    "import requests"
   ]
  },
  {
   "cell_type": "code",
   "execution_count": 2,
   "metadata": {},
   "outputs": [
    {
     "data": {
      "text/plain": [
       "{'message': 'success',\n",
       " 'number': 7,\n",
       " 'people': [{'craft': 'ISS', 'name': 'Sergey Ryzhikov'},\n",
       "  {'craft': 'ISS', 'name': 'Kate Rubins'},\n",
       "  {'craft': 'ISS', 'name': 'Sergey Kud-Sverchkov'},\n",
       "  {'craft': 'ISS', 'name': 'Mike Hopkins'},\n",
       "  {'craft': 'ISS', 'name': 'Victor Glover'},\n",
       "  {'craft': 'ISS', 'name': 'Shannon Walker'},\n",
       "  {'craft': 'ISS', 'name': 'Soichi Noguchi'}]}"
      ]
     },
     "execution_count": 2,
     "metadata": {},
     "output_type": "execute_result"
    }
   ],
   "source": [
    "#Search astronauts\n",
    "import requests\n",
    "r = requests.get(url='http://api.open-notify.org/astros.json')\n",
    "r.json()"
   ]
  },
  {
   "cell_type": "code",
   "execution_count": 3,
   "metadata": {},
   "outputs": [
    {
     "data": {
      "text/plain": [
       "(277.77777777777777, 0.0)"
      ]
     },
     "execution_count": 3,
     "metadata": {},
     "output_type": "execute_result"
    }
   ],
   "source": [
    "# http://www.satsig.net/lat_long.htm\n",
    "def translate_geo_to_pixels(longitude, latitude, max_x_px, max_y_px):\n",
    "    # y = -90 to 90\n",
    "    # x = -180 to 180\n",
    "    scale_x = (((longitude + 180) / 360) * max_x_px)\n",
    "    scale_y = (((latitude - 90) / 180) * max_y_px)\n",
    "    \n",
    "    return scale_x, scale_y\n",
    "    \n",
    "    \n",
    "translate_geo_to_pixels(20,90, 500, 250)"
   ]
  },
  {
   "cell_type": "code",
   "execution_count": null,
   "metadata": {},
   "outputs": [],
   "source": []
  }
 ],
 "metadata": {
  "kernelspec": {
   "display_name": "Python 3",
   "language": "python",
   "name": "python3"
  },
  "language_info": {
   "codemirror_mode": {
    "name": "ipython",
    "version": 3
   },
   "file_extension": ".py",
   "mimetype": "text/x-python",
   "name": "python",
   "nbconvert_exporter": "python",
   "pygments_lexer": "ipython3",
   "version": "3.7.3"
  }
 },
 "nbformat": 4,
 "nbformat_minor": 2
}
