{
 "cells": [
  {
   "cell_type": "code",
   "execution_count": 1,
   "metadata": {},
   "outputs": [
    {
     "name": "stdout",
     "output_type": "stream",
     "text": [
      "5\n",
      "1 \n",
      "1 1 \n",
      "1 2 1 \n",
      "1 3 3 1 \n",
      "1 4 6 4 1 \n"
     ]
    }
   ],
   "source": [
    "# A O(n^2) time complexity\n",
    "def printPascal(n:int): \n",
    "    arr = [[0 for x in range(n)]  \n",
    "              for y in range(n)]  \n",
    "    # Iterate through every line \n",
    "    # and print integer(s) in it \n",
    "    for line in range (0, n):  \n",
    "        for i in range (0, line + 1): \n",
    "  \n",
    "            # First and last values  \n",
    "            # in every row are 1 \n",
    "            if(i is 0 or i is line): \n",
    "                arr[line][i] = 1\n",
    "                print(arr[line][i], end = \" \")  \n",
    "  \n",
    "            # Other values are sum of values \n",
    "            # just above and left of above  \n",
    "            else: \n",
    "                arr[line][i] = (arr[line - 1][i - 1] + \n",
    "                                arr[line - 1][i]) \n",
    "                print(arr[line][i], end = \" \")              \n",
    "        print(\"\\n\", end = \"\") \n",
    "n = int(input())\n",
    "printPascal(n) "
   ]
  }
 ],
 "metadata": {
  "kernelspec": {
   "display_name": "Python 3",
   "language": "python",
   "name": "python3"
  },
  "language_info": {
   "codemirror_mode": {
    "name": "ipython",
    "version": 3
   },
   "file_extension": ".py",
   "mimetype": "text/x-python",
   "name": "python",
   "nbconvert_exporter": "python",
   "pygments_lexer": "ipython3",
   "version": "3.7.3"
  }
 },
 "nbformat": 4,
 "nbformat_minor": 2
}
